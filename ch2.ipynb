{
 "cells": [
  {
   "cell_type": "markdown",
   "metadata": {},
   "source": [
    "Timing and profiling code\n",
    "\n",
    "In this chapter, you will learn how to gather and compare runtimes between different coding \n",
    "approaches. You'll practice using the line_profiler and memory_profiler packages to profile \n",
    "your code base and spot bottlenecks. Then, you'll put your learnings to practice by replacing \n",
    "these bottlenecks with efficient Python code."
   ]
  },
  {
   "cell_type": "markdown",
   "metadata": {},
   "source": [
    "1) Examining runtime"
   ]
  },
  {
   "cell_type": "markdown",
   "metadata": {},
   "source": [
    "1.1) Using %timeit: your turn!\n",
    "\n",
    "You'd like to create a list of integers from 0 to 50 using the range() function. However, you \n",
    "are unsure whether using list comprehension or unpacking the range object into a list is faster. \n",
    "Let's use %timeit to find the best implementation.\n",
    "\n",
    "For your convenience, a reference table of time orders of magnitude is provided below (faster at \n",
    "the top).\n",
    "\n",
    "symbol\t    name\t        unit (s)\n",
    "ns\t        nanosecond\t    10-9\n",
    "µs (us)\t    microsecond\t    10-6\n",
    "ms\t        millisecond\t    10-3\n",
    "s\t        second\t        100"
   ]
  },
  {
   "cell_type": "code",
   "execution_count": 1,
   "metadata": {},
   "outputs": [
    {
     "name": "stdout",
     "output_type": "stream",
     "text": [
      "[0, 1, 2, 3, 4, 5, 6, 7, 8, 9, 10, 11, 12, 13, 14, 15, 16, 17, 18, 19, 20, 21, 22, 23, 24, 25, 26, 27, 28, 29, 30, 31, 32, 33, 34, 35, 36, 37, 38, 39, 40, 41, 42, 43, 44, 45, 46, 47, 48, 49, 50]\n",
      "[0, 1, 2, 3, 4, 5, 6, 7, 8, 9, 10, 11, 12, 13, 14, 15, 16, 17, 18, 19, 20, 21, 22, 23, 24, 25, 26, 27, 28, 29, 30, 31, 32, 33, 34, 35, 36, 37, 38, 39, 40, 41, 42, 43, 44, 45, 46, 47, 48, 49, 50]\n",
      "2.41 µs ± 697 ns per loop (mean ± std. dev. of 7 runs, 100,000 loops each)\n",
      "602 ns ± 76.7 ns per loop (mean ± std. dev. of 7 runs, 1,000,000 loops each)\n"
     ]
    }
   ],
   "source": [
    "# Create a list of integers (0-50) using list comprehension\n",
    "nums_list_comp = [num for num in range(51)]\n",
    "print(nums_list_comp)\n",
    "\n",
    "# Create a list of integers (0-50) by unpacking range\n",
    "nums_unpack = [*range(51)]\n",
    "print(nums_unpack)\n",
    "\n",
    "# use timeit with the list of integers (0-50) using list comprehension\n",
    "%timeit nums_list_comp = [num for num in range(51)]\n",
    "\n",
    "# use timeit with the list of integers (0-50) by unpacking range\n",
    "%timeit nums_unpack = [*range(51)]\n",
    "\n",
    "# OR\n",
    "# from timeit import timeit\n",
    "# time_exe1 = timeit(\"\"\"nums_list_comp = [num for num in range(51)]\"\"\")\n",
    "# time_exe2 = timeit(\"\"\"nums_unpack = [*range(51)]\"\"\")\n",
    "# print(time_exe1,time_exe2)"
   ]
  }
 ],
 "metadata": {
  "kernelspec": {
   "display_name": "Python 3.10.8 64-bit (microsoft store)",
   "language": "python",
   "name": "python3"
  },
  "language_info": {
   "codemirror_mode": {
    "name": "ipython",
    "version": 3
   },
   "file_extension": ".py",
   "mimetype": "text/x-python",
   "name": "python",
   "nbconvert_exporter": "python",
   "pygments_lexer": "ipython3",
   "version": "3.10.8"
  },
  "orig_nbformat": 4,
  "vscode": {
   "interpreter": {
    "hash": "cd85abab4e42ed52d78993b1b54e037968b74145d44eb01d9e116517c8fc42a2"
   }
  }
 },
 "nbformat": 4,
 "nbformat_minor": 2
}
