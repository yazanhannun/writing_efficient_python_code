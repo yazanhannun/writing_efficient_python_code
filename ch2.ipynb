{
 "cells": [
  {
   "cell_type": "markdown",
   "metadata": {},
   "source": [
    "Timing and profiling code\n",
    "\n",
    "In this chapter, you will learn how to gather and compare runtimes between different coding \n",
    "approaches. You'll practice using the line_profiler and memory_profiler packages to profile \n",
    "your code base and spot bottlenecks. Then, you'll put your learnings to practice by replacing \n",
    "these bottlenecks with efficient Python code."
   ]
  },
  {
   "cell_type": "markdown",
   "metadata": {},
   "source": [
    "1) Examining runtime"
   ]
  },
  {
   "cell_type": "markdown",
   "metadata": {},
   "source": [
    "1.1) Using %timeit: your turn!\n",
    "\n",
    "You'd like to create a list of integers from 0 to 50 using the range() function. However, you \n",
    "are unsure whether using list comprehension or unpacking the range object into a list is faster. \n",
    "Let's use %timeit to find the best implementation.\n",
    "\n",
    "For your convenience, a reference table of time orders of magnitude is provided below (faster at \n",
    "the top).\n",
    "\n",
    "\n",
    "| symbol      | name        |  unit (s)    \n",
    "| ----------- | ----------- | -----------\n",
    "| ns          | nanosecond  |  10-9\n",
    "| µs (us)     | microsecond |  10-6\n",
    "| ms          | millisecond |  10-3\n",
    "| s           | second      |  100"
   ]
  },
  {
   "cell_type": "code",
   "execution_count": 1,
   "metadata": {},
   "outputs": [
    {
     "name": "stdout",
     "output_type": "stream",
     "text": [
      "[0, 1, 2, 3, 4, 5, 6, 7, 8, 9, 10, 11, 12, 13, 14, 15, 16, 17, 18, 19, 20, 21, 22, 23, 24, 25, 26, 27, 28, 29, 30, 31, 32, 33, 34, 35, 36, 37, 38, 39, 40, 41, 42, 43, 44, 45, 46, 47, 48, 49, 50]\n",
      "[0, 1, 2, 3, 4, 5, 6, 7, 8, 9, 10, 11, 12, 13, 14, 15, 16, 17, 18, 19, 20, 21, 22, 23, 24, 25, 26, 27, 28, 29, 30, 31, 32, 33, 34, 35, 36, 37, 38, 39, 40, 41, 42, 43, 44, 45, 46, 47, 48, 49, 50]\n",
      "2.43 µs ± 22.2 ns per loop (mean ± std. dev. of 7 runs, 100,000 loops each)\n",
      "1.2 µs ± 571 ns per loop (mean ± std. dev. of 7 runs, 1,000,000 loops each)\n"
     ]
    }
   ],
   "source": [
    "# Create a list of integers (0-50) using list comprehension\n",
    "nums_list_comp = [num for num in range(51)]\n",
    "print(nums_list_comp)\n",
    "\n",
    "# Create a list of integers (0-50) by unpacking range\n",
    "nums_unpack = [*range(51)]\n",
    "print(nums_unpack)\n",
    "\n",
    "# use timeit with the list of integers (0-50) using list comprehension\n",
    "%timeit nums_list_comp = [num for num in range(51)]\n",
    "\n",
    "# use timeit with the list of integers (0-50) by unpacking range\n",
    "%timeit nums_unpack = [*range(51)]\n",
    "\n",
    "# OR\n",
    "# from timeit import timeit\n",
    "# time_exe1 = timeit(\"\"\"nums_list_comp = [num for num in range(51)]\"\"\")\n",
    "# time_exe2 = timeit(\"\"\"nums_unpack = [*range(51)]\"\"\")\n",
    "# print(time_exe1,time_exe2)"
   ]
  },
  {
   "cell_type": "markdown",
   "metadata": {},
   "source": [
    "Question:\n",
    "Use %timeit within your IPython console (i.e. not within the script.py window) to compare the \n",
    "runtimes for creating a list of integers from 0 to 50 using list comprehension vs. unpacking the \n",
    "range object. Don't include the print() statements when timing.\n",
    "\n",
    "Which method was faster?\n",
    "\n",
    "Possible Answers\n",
    "\n",
    "- List comprehension was faster than unpacking range().\n",
    "\n",
    "- Unpacking the range object was faster than list comprehension.  (Answer:True)\n",
    "\n",
    "- Both methods had the same runtime."
   ]
  },
  {
   "cell_type": "markdown",
   "metadata": {},
   "source": [
    "1.2) Using %timeit: specifying number of runs and loops\n",
    "\n",
    "A list of 480 superheroes has been loaded into your session (called heroes). You'd like to analyze \n",
    "the runtime for converting this heroes list into a set. Instead of relying on the default settings \n",
    "for %timeit, you'd like to only use 5 runs and 25 loops per each run.\n",
    "\n",
    "What is the correct syntax when using %timeit and only using 5 runs with 25 loops per each run?\n",
    "\n",
    "Possible Answers:\n",
    "\n",
    "- timeit -runs5 -loops25 set(heroes)\n",
    "\n",
    "- %%timeit -r5 -n25 set(heroes)\n",
    "\n",
    "- %timeit set(heroes), 5, 25\n",
    "\n",
    "- %timeit -r5 -n25 set(heroes) True"
   ]
  },
  {
   "cell_type": "markdown",
   "metadata": {},
   "source": [
    "1.3) Using %timeit: formal name or literal syntax\n",
    "\n",
    "Python allows you to create data structures using either a formal name or a literal syntax. \n",
    "In this exercise, you'll explore how using a literal syntax for creating a data structure \n",
    "can speed up runtimes.\n",
    "\n",
    "|data structure\t   | formal name   | literal syntax\n",
    "|-------------     |-------------  |-------------\n",
    "|list\t           |    list()\t   |        []\n",
    "|dictionary\t       |    dict()\t   |        {}\n",
    "|tuple\t           |   tuple()\t   |        ()"
   ]
  },
  {
   "cell_type": "code",
   "execution_count": 2,
   "metadata": {},
   "outputs": [
    {
     "name": "stdout",
     "output_type": "stream",
     "text": [
      "[]\n",
      "[]\n",
      "<class 'list'>\n",
      "<class 'list'>\n",
      "213 ns ± 38.7 ns per loop (mean ± std. dev. of 7 runs, 1,000,000 loops each)\n",
      "95.3 ns ± 16.7 ns per loop (mean ± std. dev. of 7 runs, 10,000,000 loops each)\n"
     ]
    }
   ],
   "source": [
    "# Create a list using the formal name\n",
    "formal_list = list()\n",
    "print(formal_list)\n",
    "\n",
    "# Create a list using the literal syntax\n",
    "literal_list = []\n",
    "print(literal_list)\n",
    "\n",
    "# Print out the type of formal_list\n",
    "print(type(formal_list))\n",
    "\n",
    "# Print out the type of literal_list\n",
    "print(type(literal_list))\n",
    "\n",
    "%timeit formal_list = list()\n",
    "%timeit literal_list = []"
   ]
  },
  {
   "cell_type": "markdown",
   "metadata": {},
   "source": [
    "Question:\n",
    "\n",
    "Use %timeit in your IPython console to compare runtimes between creating a list using the formal name (list()) and the literal syntax ([]). Don't include the print() statements when timing.\n",
    "\n",
    "Which naming convention is faster?\n",
    "\n",
    "Possible Answers\n",
    "\n",
    "- Using the formal name (list()) to create a list is faster.\n",
    "\n",
    "- Using the literal syntax ([]) to create a list is faster. (True)\n",
    "\n",
    "- Both naming conventions have the same runtime."
   ]
  },
  {
   "cell_type": "markdown",
   "metadata": {},
   "source": [
    "1.4) Using cell magic mode (%%timeit)\n",
    "\n",
    "From here on out, you'll be working with a superheroes dataset. For this exercise, a list of each hero's weight in kilograms (called wts) is loaded into your session. You'd like to convert these weights into pounds.\n",
    "```python:\n",
    "\n",
    "#You could accomplish this using the below for loop:\n",
    "hero_wts_lbs = []\n",
    "for wt in wts:\n",
    "    hero_wts_lbs.append(wt * 2.20462)\n",
    "\n",
    "# Or you could use a numpy array to accomplish this task:\n",
    "wts_np = np.array(wts)\n",
    "hero_wts_lbs_np = wts_np * 2.20462\n",
    "```\n",
    "Use %%timeit in your IPython console to compare runtimes between these two approaches. Make sure to press SHIFT+ENTER after the magic command to add a new line before writing the code you wish to time. After you've finished coding, answer the following question:\n",
    "\n",
    "Which of the above techniques is faster?\n",
    "\n",
    "Possible Answers:\n",
    "\n",
    "- The for loop technique was faster.\n",
    "\n",
    "- The numpy technique was faster. (Answer:True)\n",
    "\n",
    "- Both techniques had similar runtimes."
   ]
  },
  {
   "cell_type": "markdown",
   "metadata": {},
   "source": [
    "2) Code profiling for runtime"
   ]
  },
  {
   "cell_type": "markdown",
   "metadata": {},
   "source": [
    "2.1 Pop quiz: steps for using %lprun\n",
    "\n",
    "Below is the convert_units() function, which converts the heights and weights of our favorite superheroes from metric units to Imperial units.\n",
    "\n",
    "```python:\n",
    "\n",
    "def convert_units(heroes, heights, weights):\n",
    "\n",
    "    new_hts = [ht * 0.39370  for ht in heights]\n",
    "    new_wts = [wt * 2.20462  for wt in weights]\n",
    "\n",
    "    hero_data = {}\n",
    "\n",
    "    for i,hero in enumerate(heroes):\n",
    "        hero_data[hero] = (new_hts[i], new_wts[i])\n",
    "\n",
    "    return hero_data\n",
    "\n",
    "```\n",
    "Suppose you have a list of superheroes (named heroes) along with each hero's height (in centimeters) and weight (in kilograms) loaded as NumPy arrays (named hts and wts respectively).\n",
    "\n",
    "What are the necessary steps you need to take in order to profile the convert_units() function acting on your superheroes data if you'd like to see line-by-line runtimes?"
   ]
  },
  {
   "cell_type": "code",
   "execution_count": 2,
   "metadata": {},
   "outputs": [
    {
     "name": "stdout",
     "output_type": "stream",
     "text": [
      "The line_profiler extension is already loaded. To reload it, use:\n",
      "  %reload_ext line_profiler\n"
     ]
    }
   ],
   "source": [
    "import numpy as np\n",
    "import line_profiler\n",
    "heroes = ['Batman', 'Superman', 'Wonder Woman']\n",
    "hts = np.array([188.0, 191.0, 183.0])\n",
    "wts = np.array([ 95.0, 101.0, 74.0])\n",
    "\n",
    "def convert_units(heroes, heights, weights):\n",
    "\n",
    "    new_hts = [ht * 0.39370  for ht in heights]\n",
    "    new_wts = [wt * 2.20462  for wt in weights]\n",
    "\n",
    "    hero_data = {}\n",
    "\n",
    "    for i,hero in enumerate(heroes):\n",
    "        hero_data[hero] = (new_hts[i], new_wts[i])\n",
    "\n",
    "    return hero_data\n",
    "\n",
    "%load_ext line_profiler\n",
    "%lprun -f convert_units convert_units(heroes, hts, wts)"
   ]
  },
  {
   "cell_type": "markdown",
   "metadata": {},
   "source": [
    "What are the necessary steps you need to take in order to profile the convert_units() function acting on your superheroes data if you'd like to see line-by-line runtimes?\n",
    "\n",
    "Possible Answers:\n",
    "\n",
    "- Use %load_ext line_profiler to load the line_profiler within your IPython session.\n",
    "\n",
    "- Use %lprun -f convert_units convert_units(heroes, hts, wts) to get line-by-line runtimes.\n",
    "\n",
    "- Use %timeit convert_units(heroes, hts, wts) to gather runtimes.\n",
    "\n",
    "- The first and second options from above are necessary. (True)"
   ]
  },
  {
   "cell_type": "markdown",
   "metadata": {},
   "source": [
    "2.2 Using %lprun: spot bottlenecks\n",
    "\n",
    "Profiling a function allows you to dig deeper into the function's source code and potentially spot bottlenecks. When you see certain lines of code taking up the majority of the function's runtime, it is an indication that you may want to deploy a different, more efficient technique.\n",
    "\n",
    "Lets dig deeper into the convert_units() function.\n",
    "\n",
    "```python:\n",
    "def convert_units(heroes, heights, weights):\n",
    "\n",
    "    new_hts = [ht * 0.39370  for ht in heights]\n",
    "    new_wts = [wt * 2.20462  for wt in weights]\n",
    "\n",
    "    hero_data = {}\n",
    "\n",
    "    for i,hero in enumerate(heroes):\n",
    "        hero_data[hero] = (new_hts[i], new_wts[i])\n",
    "\n",
    "    return hero_data\n",
    "\n",
    "```\n",
    "Load the line_profiler package into your IPython session. Then, use %lprun to profile the convert_units() function acting on your superheroes data. Remember to use the special syntax for working with %lprun (you'll have to provide a -f flag specifying the function you'd like to profile).\n",
    "\n",
    "The convert_units() function, heroes list, hts array, and wts array have been loaded into your session. After you've finished coding, answer the following question:\n",
    "\n",
    "What percentage of time is spent on the new_hts list comprehension line of code relative to the total amount of time spent in the convert_units() function?\n",
    "\n",
    "Possible Answers:\n",
    "\n",
    "- 0% - 10%\n",
    "- 11% - 20% (True)\n",
    "- 21% - 50%\n",
    "- 51% - 100%"
   ]
  },
  {
   "cell_type": "code",
   "execution_count": 4,
   "metadata": {},
   "outputs": [
    {
     "name": "stdout",
     "output_type": "stream",
     "text": [
      "The line_profiler extension is already loaded. To reload it, use:\n",
      "  %reload_ext line_profiler\n"
     ]
    }
   ],
   "source": [
    "def convert_units(heroes, heights, weights):\n",
    "\n",
    "    new_hts = [ht * 0.39370  for ht in heights]\n",
    "    new_wts = [wt * 2.20462  for wt in weights]\n",
    "\n",
    "    hero_data = {}\n",
    "\n",
    "    for i,hero in enumerate(heroes):\n",
    "        hero_data[hero] = (new_hts[i], new_wts[i])\n",
    "\n",
    "    return hero_data\n",
    "\n",
    "%load_ext line_profiler\n",
    "%lprun -f convert_units convert_units(heroes, hts, wts)"
   ]
  },
  {
   "cell_type": "markdown",
   "metadata": {},
   "source": [
    "2.3 Using %lprun: fix the bottleneck\n",
    "\n",
    "In the previous exercise, you profiled the convert_units() function and saw that the new_hts list comprehension could be a potential bottleneck. Did you notice that the new_wts list comprehension also accounted for a similar percentage of the runtime? This is an indication that you may want to create the new_hts and new_wts objects using a different technique.\n",
    "\n",
    "Since the height and weight of each hero is stored in a numpy array, you can use array broadcasting rather than list comprehension to convert the heights and weights. This has been implemented in the below function:\n",
    "\n",
    "```python:\n",
    "def convert_units_broadcast(heroes, heights, weights):\n",
    "\n",
    "    # Array broadcasting instead of list comprehension\n",
    "    new_hts = heights * 0.39370\n",
    "    new_wts = weights * 2.20462\n",
    "\n",
    "    hero_data = {}\n",
    "\n",
    "    for i,hero in enumerate(heroes):\n",
    "        hero_data[hero] = (new_hts[i], new_wts[i])\n",
    "\n",
    "    return hero_data\n",
    "```\n",
    "\n",
    "Load the line_profiler package into your IPython session. Then, use %lprun to profile the convert_units_broadcast() function acting on your superheroes data. The convert_units_broadcast() function, heroes list, hts array, and wts array have been loaded into your session. After you've finished coding, answer the following question:\n",
    "\n",
    "What percentage of time is spent on the new_hts array broadcasting line of code relative to the total amount of time spent in the convert_units_broadcast() function?"
   ]
  },
  {
   "cell_type": "code",
   "execution_count": 5,
   "metadata": {},
   "outputs": [
    {
     "name": "stdout",
     "output_type": "stream",
     "text": [
      "The line_profiler extension is already loaded. To reload it, use:\n",
      "  %reload_ext line_profiler\n"
     ]
    }
   ],
   "source": [
    "def convert_units_broadcast(heroes, heights, weights):\n",
    "\n",
    "    # Array broadcasting instead of list comprehension\n",
    "    new_hts = heights * 0.39370\n",
    "    new_wts = weights * 2.20462\n",
    "\n",
    "    hero_data = {}\n",
    "\n",
    "    for i,hero in enumerate(heroes):\n",
    "        hero_data[hero] = (new_hts[i], new_wts[i])\n",
    "\n",
    "    return hero_data\n",
    "\n",
    "%load_ext line_profiler\n",
    "%lprun -f convert_units_broadcast convert_units_broadcast(heroes, hts, wts)"
   ]
  },
  {
   "cell_type": "code",
   "execution_count": null,
   "metadata": {},
   "outputs": [],
   "source": []
  }
 ],
 "metadata": {
  "kernelspec": {
   "display_name": "Python 3 (ipykernel)",
   "language": "python",
   "name": "python3"
  },
  "language_info": {
   "codemirror_mode": {
    "name": "ipython",
    "version": 3
   },
   "file_extension": ".py",
   "mimetype": "text/x-python",
   "name": "python",
   "nbconvert_exporter": "python",
   "pygments_lexer": "ipython3",
   "version": "3.10.8"
  },
  "vscode": {
   "interpreter": {
    "hash": "cd85abab4e42ed52d78993b1b54e037968b74145d44eb01d9e116517c8fc42a2"
   }
  }
 },
 "nbformat": 4,
 "nbformat_minor": 2
}
