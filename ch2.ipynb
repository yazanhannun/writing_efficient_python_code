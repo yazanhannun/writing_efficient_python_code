{
 "cells": [
  {
   "cell_type": "markdown",
   "metadata": {},
   "source": [
    "Timing and profiling code\n",
    "\n",
    "In this chapter, you will learn how to gather and compare runtimes between different coding \n",
    "approaches. You'll practice using the line_profiler and memory_profiler packages to profile \n",
    "your code base and spot bottlenecks. Then, you'll put your learnings to practice by replacing \n",
    "these bottlenecks with efficient Python code."
   ]
  },
  {
   "cell_type": "markdown",
   "metadata": {},
   "source": [
    "1) Examining runtime"
   ]
  },
  {
   "cell_type": "markdown",
   "metadata": {},
   "source": [
    "1.1) Using %timeit: your turn!\n",
    "\n",
    "You'd like to create a list of integers from 0 to 50 using the range() function. However, you \n",
    "are unsure whether using list comprehension or unpacking the range object into a list is faster. \n",
    "Let's use %timeit to find the best implementation.\n",
    "\n",
    "For your convenience, a reference table of time orders of magnitude is provided below (faster at \n",
    "the top).\n",
    "\n",
    "\n",
    "| symbol      | name        |  unit (s)    \n",
    "| ----------- | ----------- | -----------\n",
    "| ns          | nanosecond  |  10-9\n",
    "| µs (us)     | microsecond |  10-6\n",
    "| ms          | millisecond |  10-3\n",
    "| s           | second      |  100"
   ]
  },
  {
   "cell_type": "code",
   "execution_count": null,
   "metadata": {},
   "outputs": [],
   "source": [
    "# Create a list of integers (0-50) using list comprehension\n",
    "nums_list_comp = [num for num in range(51)]\n",
    "print(nums_list_comp)\n",
    "\n",
    "# Create a list of integers (0-50) by unpacking range\n",
    "nums_unpack = [*range(51)]\n",
    "print(nums_unpack)\n",
    "\n",
    "# use timeit with the list of integers (0-50) using list comprehension\n",
    "%timeit nums_list_comp = [num for num in range(51)]\n",
    "\n",
    "# use timeit with the list of integers (0-50) by unpacking range\n",
    "%timeit nums_unpack = [*range(51)]\n",
    "\n",
    "# OR\n",
    "# from timeit import timeit\n",
    "# time_exe1 = timeit(\"\"\"nums_list_comp = [num for num in range(51)]\"\"\")\n",
    "# time_exe2 = timeit(\"\"\"nums_unpack = [*range(51)]\"\"\")\n",
    "# print(time_exe1,time_exe2)"
   ]
  },
  {
   "cell_type": "markdown",
   "metadata": {},
   "source": [
    "Question:\n",
    "Use %timeit within your IPython console (i.e. not within the script.py window) to compare the \n",
    "runtimes for creating a list of integers from 0 to 50 using list comprehension vs. unpacking the \n",
    "range object. Don't include the print() statements when timing.\n",
    "\n",
    "Which method was faster?\n",
    "\n",
    "Possible Answers\n",
    "\n",
    "- List comprehension was faster than unpacking range().\n",
    "\n",
    "- Unpacking the range object was faster than list comprehension.  (Answer:True)\n",
    "\n",
    "- Both methods had the same runtime."
   ]
  },
  {
   "cell_type": "markdown",
   "metadata": {},
   "source": [
    "1.2) Using %timeit: specifying number of runs and loops\n",
    "\n",
    "A list of 480 superheroes has been loaded into your session (called heroes). You'd like to analyze \n",
    "the runtime for converting this heroes list into a set. Instead of relying on the default settings \n",
    "for %timeit, you'd like to only use 5 runs and 25 loops per each run.\n",
    "\n",
    "What is the correct syntax when using %timeit and only using 5 runs with 25 loops per each run?\n",
    "\n",
    "Possible Answers:\n",
    "\n",
    "- timeit -runs5 -loops25 set(heroes)\n",
    "\n",
    "- %%timeit -r5 -n25 set(heroes)\n",
    "\n",
    "- %timeit set(heroes), 5, 25\n",
    "\n",
    "- %timeit -r5 -n25 set(heroes) True"
   ]
  },
  {
   "cell_type": "markdown",
   "metadata": {},
   "source": [
    "1.3) Using %timeit: formal name or literal syntax\n",
    "\n",
    "Python allows you to create data structures using either a formal name or a literal syntax. \n",
    "In this exercise, you'll explore how using a literal syntax for creating a data structure \n",
    "can speed up runtimes.\n",
    "\n",
    "|data structure\t   | formal name   | literal syntax\n",
    "|-------------     |-------------  |-------------\n",
    "|list\t           |    list()\t   |        []\n",
    "|dictionary\t       |    dict()\t   |        {}\n",
    "|tuple\t           |   tuple()\t   |        ()"
   ]
  },
  {
   "cell_type": "code",
   "execution_count": 2,
   "metadata": {},
   "outputs": [
    {
     "name": "stdout",
     "output_type": "stream",
     "text": [
      "[]\n",
      "[]\n",
      "<class 'list'>\n",
      "<class 'list'>\n",
      "61 ns ± 5.85 ns per loop (mean ± std. dev. of 7 runs, 10,000,000 loops each)\n",
      "38.5 ns ± 1.46 ns per loop (mean ± std. dev. of 7 runs, 10,000,000 loops each)\n"
     ]
    }
   ],
   "source": [
    "# Create a list using the formal name\n",
    "formal_list = list()\n",
    "print(formal_list)\n",
    "\n",
    "# Create a list using the literal syntax\n",
    "literal_list = []\n",
    "print(literal_list)\n",
    "\n",
    "# Print out the type of formal_list\n",
    "print(type(formal_list))\n",
    "\n",
    "# Print out the type of literal_list\n",
    "print(type(literal_list))\n",
    "\n",
    "%timeit formal_list = list()\n",
    "%timeit literal_list = []"
   ]
  }
 ],
 "metadata": {
  "kernelspec": {
   "display_name": "Python 3.10.8 64-bit (microsoft store)",
   "language": "python",
   "name": "python3"
  },
  "language_info": {
   "codemirror_mode": {
    "name": "ipython",
    "version": 3
   },
   "file_extension": ".py",
   "mimetype": "text/x-python",
   "name": "python",
   "nbconvert_exporter": "python",
   "pygments_lexer": "ipython3",
   "version": "3.10.8"
  },
  "orig_nbformat": 4,
  "vscode": {
   "interpreter": {
    "hash": "cd85abab4e42ed52d78993b1b54e037968b74145d44eb01d9e116517c8fc42a2"
   }
  }
 },
 "nbformat": 4,
 "nbformat_minor": 2
}
